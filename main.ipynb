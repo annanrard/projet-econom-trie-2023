{
 "cells": [
  {
   "cell_type": "code",
   "execution_count": 3,
   "id": "initial_id",
   "metadata": {
    "collapsed": true,
    "ExecuteTime": {
     "end_time": "2023-11-07T14:22:12.031794200Z",
     "start_time": "2023-11-07T14:22:10.749492900Z"
    }
   },
   "outputs": [],
   "source": [
    "import numpy as np\n",
    "import matplotlib.pyplot as plt\n",
    "import math\n",
    "import pandas as pd \n",
    "from arch import arch_model"
   ]
  },
  {
   "cell_type": "code",
   "execution_count": 10,
   "id": "940ed8b297ce1f02",
   "metadata": {
    "collapsed": false,
    "ExecuteTime": {
     "end_time": "2023-11-07T14:32:44.588689100Z",
     "start_time": "2023-11-07T14:32:44.480658800Z"
    }
   },
   "outputs": [
    {
     "name": "stdout",
     "output_type": "stream",
     "text": [
      "Iteration:      1,   Func. Count:      6,   Neg. LLF: 4264.8355246029\n",
      "Iteration:      2,   Func. Count:     16,   Neg. LLF: 44048857480.47892\n",
      "Iteration:      3,   Func. Count:     24,   Neg. LLF: 1248.7975335602603\n",
      "Iteration:      4,   Func. Count:     31,   Neg. LLF: 1198.7072392242835\n",
      "Iteration:      5,   Func. Count:     39,   Neg. LLF: 1007.2968606249885\n",
      "Iteration:      6,   Func. Count:     44,   Neg. LLF: 1007.255160396758\n",
      "Iteration:      7,   Func. Count:     49,   Neg. LLF: 1007.2539093172094\n",
      "Iteration:      8,   Func. Count:     54,   Neg. LLF: 1007.2538618735394\n",
      "Iteration:      9,   Func. Count:     59,   Neg. LLF: 1007.253856713311\n",
      "Iteration:     10,   Func. Count:     63,   Neg. LLF: 1007.25385671412\n",
      "Optimization terminated successfully    (Exit mode 0)\n",
      "            Current function value: 1007.253856713311\n",
      "            Iterations: 10\n",
      "            Function evaluations: 63\n",
      "            Gradient evaluations: 10\n",
      "Iteration:      1,   Func. Count:      6,   Neg. LLF: 16997970985.605366\n",
      "Iteration:      2,   Func. Count:     14,   Neg. LLF: 33872.103361209534\n",
      "Iteration:      3,   Func. Count:     23,   Neg. LLF: 1952.1905134469876\n",
      "Iteration:      4,   Func. Count:     30,   Neg. LLF: 1721.5408212958864\n",
      "Iteration:      5,   Func. Count:     36,   Neg. LLF: 1467.5491480289552\n",
      "Iteration:      6,   Func. Count:     41,   Neg. LLF: 1467.4143104933985\n",
      "Iteration:      7,   Func. Count:     46,   Neg. LLF: 1467.3996998881219\n",
      "Iteration:      8,   Func. Count:     51,   Neg. LLF: 1467.399579157996\n",
      "Iteration:      9,   Func. Count:     56,   Neg. LLF: 1467.39957768657\n",
      "Iteration:     10,   Func. Count:     61,   Neg. LLF: 1467.399576631129\n",
      "Iteration:     11,   Func. Count:     65,   Neg. LLF: 1467.399576630652\n",
      "Optimization terminated successfully    (Exit mode 0)\n",
      "            Current function value: 1467.399576631129\n",
      "            Iterations: 11\n",
      "            Function evaluations: 65\n",
      "            Gradient evaluations: 11\n",
      "Iteration:      1,   Func. Count:      6,   Neg. LLF: 7042.827939532595\n",
      "Iteration:      2,   Func. Count:     14,   Neg. LLF: 258674.36774077377\n",
      "Iteration:      3,   Func. Count:     21,   Neg. LLF: 931.7179388284367\n",
      "Iteration:      4,   Func. Count:     29,   Neg. LLF: 956.5566114433118\n",
      "Iteration:      5,   Func. Count:     36,   Neg. LLF: 1001.5939388478847\n",
      "Iteration:      6,   Func. Count:     43,   Neg. LLF: 879.8878805370714\n",
      "Iteration:      7,   Func. Count:     49,   Neg. LLF: 879.4732849997224\n",
      "Iteration:      8,   Func. Count:     54,   Neg. LLF: 879.4727672333827\n",
      "Iteration:      9,   Func. Count:     59,   Neg. LLF: 879.4727478993547\n",
      "Iteration:     10,   Func. Count:     64,   Neg. LLF: 879.4727470779533\n",
      "Optimization terminated successfully    (Exit mode 0)\n",
      "            Current function value: 879.4727470779533\n",
      "            Iterations: 10\n",
      "            Function evaluations: 64\n",
      "            Gradient evaluations: 10\n",
      "Iteration:      1,   Func. Count:      6,   Neg. LLF: 366228664870.74756\n",
      "Iteration:      2,   Func. Count:     14,   Neg. LLF: 7011072.671306109\n",
      "Iteration:      3,   Func. Count:     21,   Neg. LLF: 1339.8837028428004\n",
      "Iteration:      4,   Func. Count:     27,   Neg. LLF: 1283.4653958829563\n",
      "Iteration:      5,   Func. Count:     33,   Neg. LLF: 371141587.6866847\n",
      "Iteration:      6,   Func. Count:     39,   Neg. LLF: 1466.0321817007327\n",
      "Iteration:      7,   Func. Count:     46,   Neg. LLF: 1282.3539848147518\n",
      "Iteration:      8,   Func. Count:     52,   Neg. LLF: 1277.4197675071582\n",
      "Iteration:      9,   Func. Count:     57,   Neg. LLF: 1277.4196569712826\n",
      "Iteration:     10,   Func. Count:     62,   Neg. LLF: 1277.4196545039545\n",
      "Iteration:     11,   Func. Count:     66,   Neg. LLF: 1277.4196545030431\n",
      "Optimization terminated successfully    (Exit mode 0)\n",
      "            Current function value: 1277.4196545039545\n",
      "            Iterations: 11\n",
      "            Function evaluations: 66\n",
      "            Gradient evaluations: 11\n"
     ]
    },
    {
     "name": "stderr",
     "output_type": "stream",
     "text": [
      "C:\\Users\\Thomas\\AppData\\Local\\Temp\\ipykernel_5804\\376606845.py:9: SettingWithCopyWarning: \n",
      "A value is trying to be set on a copy of a slice from a DataFrame.\n",
      "Try using .loc[row_indexer,col_indexer] = value instead\n",
      "\n",
      "See the caveats in the documentation: https://pandas.pydata.org/pandas-docs/stable/user_guide/indexing.html#returning-a-view-versus-a-copy\n",
      "  russel_2017_2019['Returns'] = russel_2017_2019['Close'].pct_change() * 100 #méthode utilisée pour calculer le pourcentage de changement entre les lignes\n",
      "C:\\Users\\Thomas\\AppData\\Local\\Temp\\ipykernel_5804\\376606845.py:18: SettingWithCopyWarning: \n",
      "A value is trying to be set on a copy of a slice from a DataFrame.\n",
      "Try using .loc[row_indexer,col_indexer] = value instead\n",
      "\n",
      "See the caveats in the documentation: https://pandas.pydata.org/pandas-docs/stable/user_guide/indexing.html#returning-a-view-versus-a-copy\n",
      "  russel_2020_2022['Returns'] = russel_2020_2022['Close'].pct_change() * 100\n",
      "C:\\Users\\Thomas\\AppData\\Local\\Temp\\ipykernel_5804\\376606845.py:19: FutureWarning: The default fill_method='pad' in Series.pct_change is deprecated and will be removed in a future version. Either fill in any non-leading NA values prior to calling pct_change or specify 'fill_method=None' to not fill NA values.\n",
      "  cac_2017_2019['Returns'] = cac_2017_2019['Close'].pct_change() * 100\n",
      "C:\\Users\\Thomas\\AppData\\Local\\Temp\\ipykernel_5804\\376606845.py:19: SettingWithCopyWarning: \n",
      "A value is trying to be set on a copy of a slice from a DataFrame.\n",
      "Try using .loc[row_indexer,col_indexer] = value instead\n",
      "\n",
      "See the caveats in the documentation: https://pandas.pydata.org/pandas-docs/stable/user_guide/indexing.html#returning-a-view-versus-a-copy\n",
      "  cac_2017_2019['Returns'] = cac_2017_2019['Close'].pct_change() * 100\n",
      "C:\\Users\\Thomas\\AppData\\Local\\Temp\\ipykernel_5804\\376606845.py:20: SettingWithCopyWarning: \n",
      "A value is trying to be set on a copy of a slice from a DataFrame.\n",
      "Try using .loc[row_indexer,col_indexer] = value instead\n",
      "\n",
      "See the caveats in the documentation: https://pandas.pydata.org/pandas-docs/stable/user_guide/indexing.html#returning-a-view-versus-a-copy\n",
      "  cac_2020_2022['Returns'] = cac_2020_2022['Close'].pct_change() * 100\n"
     ]
    },
    {
     "data": {
      "text/plain": "767     1.435751\n768     1.308386\n769     1.225663\n770     1.132667\n771     1.059272\n          ...   \n1533    1.374534\n1534    1.262041\n1535    1.191662\n1536    1.140895\n1537    1.125341\nName: cond_vol, Length: 771, dtype: float64"
     },
     "execution_count": 10,
     "metadata": {},
     "output_type": "execute_result"
    }
   ],
   "source": [
    "russel = pd.read_csv(\"RUSSEL2000.csv\")\n",
    "russel_2017_2019 = russel[(russel['Date'] >= '2017-01-01') & (russel['Date'] <= '2019-12-31')]\n",
    "russel_2020_2022 = russel[(russel['Date'] >= '2020-01-01') & (russel['Date'] <= '2022-12-31')]\n",
    "\n",
    "# Exporter les données filtrées vers de nouveaux fichiers CSV\n",
    "russel_2017_2019.to_csv('russel_2017_2019.csv', index=False)\n",
    "russel_2020_2022.to_csv('russel_2020_2022.csv', index=False)\n",
    "\n",
    "russel_2017_2019['Returns'] = russel_2017_2019['Close'].pct_change() * 100 #méthode utilisée pour calculer le pourcentage de changement entre les lignes\n",
    "cac = pd.read_csv(\"CAC40.csv\")\n",
    "cac_2017_2019 = cac[(cac['Date'] >= '2017-01-01') & (cac['Date'] <= '2019-12-31')]\n",
    "cac_2020_2022 = cac[(cac['Date'] >= '2020-01-01') & (cac['Date'] <= '2022-12-31')]\n",
    "\n",
    "# Exporter les données filtrées vers de nouveaux fichiers CSV\n",
    "cac_2017_2019.to_csv('cac_2017_2019.csv', index=False)\n",
    "cac_2020_2022.to_csv('cac_2020_2022.csv', index=False)\n",
    "\n",
    "russel_2020_2022['Returns'] = russel_2020_2022['Close'].pct_change() * 100\n",
    "cac_2017_2019['Returns'] = cac_2017_2019['Close'].pct_change() * 100\n",
    "cac_2020_2022['Returns'] = cac_2020_2022['Close'].pct_change() * 100\n",
    "\n",
    "def volatility(model):\n",
    "    model_fit = model.fit()\n",
    "    return model_fit.conditional_volatility\n",
    "\n",
    "# Modèle GARCH\n",
    "model_garch_russ2017 = arch_model(russel_2017_2019['Returns'].dropna(), vol='Garch', p=1, q=1)\n",
    "model_garch_russ2020 = arch_model(russel_2020_2022['Returns'].dropna(), vol='Garch', p=1, q=1)\n",
    "model_garch_cac2017 = arch_model(cac_2017_2019['Returns'].dropna(), vol='Garch', p=1, q=1)\n",
    "model_garch_cac2020 = arch_model(cac_2020_2022['Returns'].dropna(), vol='Garch', p=1, q=1)\n",
    "\n",
    "volatility(model_garch_russ2017)\n",
    "volatility(model_garch_russ2020)\n",
    "volatility(model_garch_cac2017)\n",
    "volatility(model_garch_cac2020)\n",
    "\n",
    "\n",
    "\n",
    "\n",
    "\n",
    "\n"
   ]
  }
 ],
 "metadata": {
  "kernelspec": {
   "display_name": "Python 3",
   "language": "python",
   "name": "python3"
  },
  "language_info": {
   "codemirror_mode": {
    "name": "ipython",
    "version": 3
   },
   "file_extension": ".py",
   "mimetype": "text/x-python",
   "name": "python",
   "nbconvert_exporter": "python",
   "pygments_lexer": "ipython3",
   "version": "3.10.4"
  }
 },
 "nbformat": 4,
 "nbformat_minor": 5
}
