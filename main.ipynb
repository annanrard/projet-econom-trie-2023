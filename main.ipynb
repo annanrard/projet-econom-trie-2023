{
 "cells": [
  {
   "cell_type": "code",
   "execution_count": 3,
   "id": "initial_id",
   "metadata": {
    "ExecuteTime": {
     "end_time": "2023-11-02T11:42:39.514184800Z",
     "start_time": "2023-11-02T11:42:38.670805100Z"
    },
    "collapsed": true
   },
   "outputs": [],
   "source": [
    "import numpy as np\n",
    "import matplotlib.pyplot as plt\n",
    "import math\n",
    "import pandas as pd \n",
    "from arch import arch_model"
   ]
  },
  {
   "cell_type": "code",
   "execution_count": 11,
   "id": "940ed8b297ce1f02",
   "metadata": {
    "ExecuteTime": {
     "end_time": "2023-11-02T11:49:03.361817700Z",
     "start_time": "2023-11-02T11:49:03.328816600Z"
    },
    "collapsed": false
   },
   "outputs": [
    {
     "name": "stdout",
     "output_type": "stream",
     "text": [
      "Iteration:      1,   Func. Count:      6,   Neg. LLF: 4264.8355246029\n",
      "Iteration:      2,   Func. Count:     16,   Neg. LLF: 44048857480.47892\n",
      "Iteration:      3,   Func. Count:     24,   Neg. LLF: 1248.7975335602603\n",
      "Iteration:      4,   Func. Count:     31,   Neg. LLF: 1198.7072392242835\n",
      "Iteration:      5,   Func. Count:     39,   Neg. LLF: 1007.2968606249885\n",
      "Iteration:      6,   Func. Count:     44,   Neg. LLF: 1007.255160396758\n",
      "Iteration:      7,   Func. Count:     49,   Neg. LLF: 1007.2539093172094\n",
      "Iteration:      8,   Func. Count:     54,   Neg. LLF: 1007.2538618735394\n",
      "Iteration:      9,   Func. Count:     59,   Neg. LLF: 1007.253856713311\n",
      "Iteration:     10,   Func. Count:     63,   Neg. LLF: 1007.25385671412\n",
      "Optimization terminated successfully    (Exit mode 0)\n",
      "            Current function value: 1007.253856713311\n",
      "            Iterations: 10\n",
      "            Function evaluations: 63\n",
      "            Gradient evaluations: 10\n",
      "                     Constant Mean - GARCH Model Results                      \n",
      "==============================================================================\n",
      "Dep. Variable:                Returns   R-squared:                       0.000\n",
      "Mean Model:             Constant Mean   Adj. R-squared:                  0.000\n",
      "Vol Model:                      GARCH   Log-Likelihood:               -1007.25\n",
      "Distribution:                  Normal   AIC:                           2022.51\n",
      "Method:            Maximum Likelihood   BIC:                           2041.00\n",
      "                                        No. Observations:                  753\n",
      "Date:                Thu, Nov 02 2023   Df Residuals:                      752\n",
      "Time:                        17:57:52   Df Model:                            1\n",
      "                                Mean Model                                \n",
      "==========================================================================\n",
      "                 coef    std err          t      P>|t|    95.0% Conf. Int.\n",
      "--------------------------------------------------------------------------\n",
      "mu             0.0682  3.099e-02      2.202  2.766e-02 [7.505e-03,  0.129]\n",
      "                              Volatility Model                              \n",
      "============================================================================\n",
      "                 coef    std err          t      P>|t|      95.0% Conf. Int.\n",
      "----------------------------------------------------------------------------\n",
      "omega          0.0407  1.907e-02      2.134  3.285e-02 [3.317e-03,7.805e-02]\n",
      "alpha[1]       0.0966  3.133e-02      3.084  2.040e-03   [3.523e-02,  0.158]\n",
      "beta[1]        0.8609  4.093e-02     21.034  3.181e-98     [  0.781,  0.941]\n",
      "============================================================================\n",
      "\n",
      "Covariance estimator: robust\n"
     ]
    },
    {
     "name": "stderr",
     "output_type": "stream",
     "text": [
      "C:\\Users\\33695\\AppData\\Local\\Temp\\ipykernel_3724\\716647275.py:9: SettingWithCopyWarning: \n",
      "A value is trying to be set on a copy of a slice from a DataFrame.\n",
      "Try using .loc[row_indexer,col_indexer] = value instead\n",
      "\n",
      "See the caveats in the documentation: https://pandas.pydata.org/pandas-docs/stable/user_guide/indexing.html#returning-a-view-versus-a-copy\n",
      "  russel_2017_2019['Returns'] = russel_2017_2019['Close'].pct_change() * 100 #méthode utilisée pour calculer le pourcentage de changement entre les lignes\n",
      "c:\\Python310\\lib\\site-packages\\arch\\univariate\\base.py:1890: FutureWarning: Series.__getitem__ treating keys as positions is deprecated. In a future version, integer keys will always be treated as labels (consistent with DataFrame behavior). To access a value by position, use `ser.iloc[pos]`\n",
      "  if isinstance(table_val[pos], (np.float64, float)):\n",
      "c:\\Python310\\lib\\site-packages\\arch\\univariate\\base.py:1891: FutureWarning: Series.__getitem__ treating keys as positions is deprecated. In a future version, integer keys will always be treated as labels (consistent with DataFrame behavior). To access a value by position, use `ser.iloc[pos]`\n",
      "  assert isinstance(table_val[pos], float)\n",
      "c:\\Python310\\lib\\site-packages\\arch\\univariate\\base.py:1892: FutureWarning: Series.__getitem__ treating keys as positions is deprecated. In a future version, integer keys will always be treated as labels (consistent with DataFrame behavior). To access a value by position, use `ser.iloc[pos]`\n",
      "  converted = format_float_fixed(table_val[pos], *formats[i])\n"
     ]
    }
   ],
   "source": [
    "russel = pd.read_csv(\"RUSSEL2000.csv\")\n",
    "russel_2017_2019 = russel[(russel['Date'] >= '2017-01-01') & (russel['Date'] <= '2019-12-31')]\n",
    "russel_2020_2022 = russel[(russel['Date'] >= '2020-01-01') & (russel['Date'] <= '2022-12-31')]\n",
    "\n",
    "# Exporter les données filtrées vers de nouveaux fichiers CSV\n",
    "russel_2017_2019.to_csv('russel_2017_2019.csv', index=False)\n",
    "russel_2020_2022.to_csv('russel_2020_2022.csv', index=False)\n",
    "\n",
    "russel_2017_2019['Returns'] = russel_2017_2019['Close'].pct_change() * 100 #méthode utilisée pour calculer le pourcentage de changement entre les lignes\n",
    "\n",
    "# Modèle GARCH\n",
    "model = arch_model(russel_2017_2019['Returns'].dropna(), vol='Garch', p=1, q=1)\n",
    "\n",
    "# Ajuster le modèle\n",
    "model_fit = model.fit()\n",
    "\n",
    "# Afficher la volatilité\n",
    "print(model_fit.conditional_volatility)\n",
    "\n",
    "cac = pd.read_csv(\"CAC40.csv\")\n",
    "cac_2017_2019 = cac[(cac['Date'] >= '2017-01-01') & (cac['Date'] <= '2019-12-31')]\n",
    "cac_2020_2022 = cac[(cac['Date'] >= '2020-01-01') & (cac['Date'] <= '2022-12-31')]\n",
    "\n",
    "# Exporter les données filtrées vers de nouveaux fichiers CSV\n",
    "cac_2017_2019.to_csv('cac_2017_2019.csv', index=False)\n",
    "cac_2020_2022.to_csv('cac_2020_2022.csv', index=False)\n",
    "\n",
    "\n"
   ]
  }
 ],
 "metadata": {
  "kernelspec": {
   "display_name": "Python 3",
   "language": "python",
   "name": "python3"
  },
  "language_info": {
   "codemirror_mode": {
    "name": "ipython",
    "version": 3
   },
   "file_extension": ".py",
   "mimetype": "text/x-python",
   "name": "python",
   "nbconvert_exporter": "python",
   "pygments_lexer": "ipython3",
   "version": "3.10.4"
  }
 },
 "nbformat": 4,
 "nbformat_minor": 5
}
