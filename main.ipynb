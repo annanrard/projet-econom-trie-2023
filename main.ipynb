{
 "cells": [
  {
   "cell_type": "code",
   "execution_count": 2,
   "id": "initial_id",
   "metadata": {
    "collapsed": true,
    "ExecuteTime": {
     "end_time": "2023-12-15T11:24:38.274367700Z",
     "start_time": "2023-12-15T11:24:32.941252Z"
    }
   },
   "outputs": [],
   "source": [
    "import numpy as np\n",
    "import matplotlib.pyplot as plt\n",
    "import math\n",
    "import pandas as pd \n",
    "from arch import arch_model\n",
    "from scipy import stats\n",
    "import scipy"
   ]
  },
  {
   "cell_type": "markdown",
   "metadata": {},
   "source": [],
   "id": "c30621778497046c"
  },
  {
   "cell_type": "code",
   "execution_count": 3,
   "id": "940ed8b297ce1f02",
   "metadata": {
    "collapsed": false,
    "ExecuteTime": {
     "end_time": "2023-12-15T11:24:40.382669300Z",
     "start_time": "2023-12-15T11:24:40.226973600Z"
    }
   },
   "outputs": [
    {
     "name": "stdout",
     "output_type": "stream",
     "text": [
      "Iteration:      1,   Func. Count:      6,   Neg. LLF: 4264.8355246029\n",
      "Iteration:      2,   Func. Count:     16,   Neg. LLF: 44048857480.47892\n",
      "Iteration:      3,   Func. Count:     24,   Neg. LLF: 1248.7975335602603\n",
      "Iteration:      4,   Func. Count:     31,   Neg. LLF: 1198.7072392242835\n",
      "Iteration:      5,   Func. Count:     39,   Neg. LLF: 1007.2968606249885\n",
      "Iteration:      6,   Func. Count:     44,   Neg. LLF: 1007.255160396758\n",
      "Iteration:      7,   Func. Count:     49,   Neg. LLF: 1007.2539093172094\n",
      "Iteration:      8,   Func. Count:     54,   Neg. LLF: 1007.2538618735394\n",
      "Iteration:      9,   Func. Count:     59,   Neg. LLF: 1007.253856713311\n",
      "Iteration:     10,   Func. Count:     63,   Neg. LLF: 1007.25385671412\n",
      "Optimization terminated successfully    (Exit mode 0)\n",
      "            Current function value: 1007.253856713311\n",
      "            Iterations: 10\n",
      "            Function evaluations: 63\n",
      "            Gradient evaluations: 10\n",
      "                     Constant Mean - GARCH Model Results                      \n",
      "==============================================================================\n",
      "Dep. Variable:                Returns   R-squared:                       0.000\n",
      "Mean Model:             Constant Mean   Adj. R-squared:                  0.000\n",
      "Vol Model:                      GARCH   Log-Likelihood:               -1007.25\n",
      "Distribution:                  Normal   AIC:                           2022.51\n",
      "Method:            Maximum Likelihood   BIC:                           2041.00\n",
      "                                        No. Observations:                  753\n",
      "Date:                Fri, Dec 15 2023   Df Residuals:                      752\n",
      "Time:                        12:24:40   Df Model:                            1\n",
      "                                Mean Model                                \n",
      "==========================================================================\n",
      "                 coef    std err          t      P>|t|    95.0% Conf. Int.\n",
      "--------------------------------------------------------------------------\n",
      "mu             0.0682  3.099e-02      2.202  2.766e-02 [7.505e-03,  0.129]\n",
      "                              Volatility Model                              \n",
      "============================================================================\n",
      "                 coef    std err          t      P>|t|      95.0% Conf. Int.\n",
      "----------------------------------------------------------------------------\n",
      "omega          0.0407  1.907e-02      2.134  3.285e-02 [3.317e-03,7.805e-02]\n",
      "alpha[1]       0.0966  3.133e-02      3.084  2.040e-03   [3.523e-02,  0.158]\n",
      "beta[1]        0.8609  4.093e-02     21.034  3.181e-98     [  0.781,  0.941]\n",
      "============================================================================\n",
      "\n",
      "Covariance estimator: robust\n"
     ]
    },
    {
     "name": "stderr",
     "output_type": "stream",
     "text": [
      "C:\\Users\\Thomas\\AppData\\Local\\Temp\\ipykernel_2028\\990990150.py:8: SettingWithCopyWarning: \n",
      "A value is trying to be set on a copy of a slice from a DataFrame.\n",
      "Try using .loc[row_indexer,col_indexer] = value instead\n",
      "\n",
      "See the caveats in the documentation: https://pandas.pydata.org/pandas-docs/stable/user_guide/indexing.html#returning-a-view-versus-a-copy\n",
      "  russel_2017_2019['Date'] = pd.to_datetime(russel_2017_2019['Date'])\n",
      "C:\\Users\\Thomas\\AppData\\Local\\Temp\\ipykernel_2028\\990990150.py:9: SettingWithCopyWarning: \n",
      "A value is trying to be set on a copy of a slice from a DataFrame.\n",
      "Try using .loc[row_indexer,col_indexer] = value instead\n",
      "\n",
      "See the caveats in the documentation: https://pandas.pydata.org/pandas-docs/stable/user_guide/indexing.html#returning-a-view-versus-a-copy\n",
      "  russel_2020_2022['Date'] = pd.to_datetime(russel_2020_2022['Date'])\n",
      "C:\\Users\\Thomas\\AppData\\Local\\Temp\\ipykernel_2028\\990990150.py:12: SettingWithCopyWarning: \n",
      "A value is trying to be set on a copy of a slice from a DataFrame.\n",
      "Try using .loc[row_indexer,col_indexer] = value instead\n",
      "\n",
      "See the caveats in the documentation: https://pandas.pydata.org/pandas-docs/stable/user_guide/indexing.html#returning-a-view-versus-a-copy\n",
      "  russel_2017_2019['Returns'] = russel_2017_2019['Close'].pct_change() * 100 #méthode utilisée pour calculer le pourcentage de changement entre les lignes\n",
      "C:\\Users\\Thomas\\AppData\\Local\\Temp\\ipykernel_2028\\990990150.py:21: SettingWithCopyWarning: \n",
      "A value is trying to be set on a copy of a slice from a DataFrame.\n",
      "Try using .loc[row_indexer,col_indexer] = value instead\n",
      "\n",
      "See the caveats in the documentation: https://pandas.pydata.org/pandas-docs/stable/user_guide/indexing.html#returning-a-view-versus-a-copy\n",
      "  russel_2020_2022['Returns'] = russel_2020_2022['Close'].pct_change() * 100\n",
      "C:\\Users\\Thomas\\AppData\\Local\\Temp\\ipykernel_2028\\990990150.py:22: FutureWarning: The default fill_method='pad' in Series.pct_change is deprecated and will be removed in a future version. Either fill in any non-leading NA values prior to calling pct_change or specify 'fill_method=None' to not fill NA values.\n",
      "  cac_2017_2019['Returns'] = cac_2017_2019['Close'].pct_change() * 100\n",
      "C:\\Users\\Thomas\\AppData\\Local\\Temp\\ipykernel_2028\\990990150.py:22: SettingWithCopyWarning: \n",
      "A value is trying to be set on a copy of a slice from a DataFrame.\n",
      "Try using .loc[row_indexer,col_indexer] = value instead\n",
      "\n",
      "See the caveats in the documentation: https://pandas.pydata.org/pandas-docs/stable/user_guide/indexing.html#returning-a-view-versus-a-copy\n",
      "  cac_2017_2019['Returns'] = cac_2017_2019['Close'].pct_change() * 100\n",
      "C:\\Users\\Thomas\\AppData\\Local\\Temp\\ipykernel_2028\\990990150.py:23: SettingWithCopyWarning: \n",
      "A value is trying to be set on a copy of a slice from a DataFrame.\n",
      "Try using .loc[row_indexer,col_indexer] = value instead\n",
      "\n",
      "See the caveats in the documentation: https://pandas.pydata.org/pandas-docs/stable/user_guide/indexing.html#returning-a-view-versus-a-copy\n",
      "  cac_2020_2022['Returns'] = cac_2020_2022['Close'].pct_change() * 100\n",
      "C:\\Users\\Thomas\\AppData\\Local\\Programs\\Python\\Python310\\lib\\site-packages\\arch\\univariate\\base.py:1890: FutureWarning: Series.__getitem__ treating keys as positions is deprecated. In a future version, integer keys will always be treated as labels (consistent with DataFrame behavior). To access a value by position, use `ser.iloc[pos]`\n",
      "  if isinstance(table_val[pos], (np.float64, float)):\n",
      "C:\\Users\\Thomas\\AppData\\Local\\Programs\\Python\\Python310\\lib\\site-packages\\arch\\univariate\\base.py:1891: FutureWarning: Series.__getitem__ treating keys as positions is deprecated. In a future version, integer keys will always be treated as labels (consistent with DataFrame behavior). To access a value by position, use `ser.iloc[pos]`\n",
      "  assert isinstance(table_val[pos], float)\n",
      "C:\\Users\\Thomas\\AppData\\Local\\Programs\\Python\\Python310\\lib\\site-packages\\arch\\univariate\\base.py:1892: FutureWarning: Series.__getitem__ treating keys as positions is deprecated. In a future version, integer keys will always be treated as labels (consistent with DataFrame behavior). To access a value by position, use `ser.iloc[pos]`\n",
      "  converted = format_float_fixed(table_val[pos], *formats[i])\n"
     ]
    }
   ],
   "source": [
    "russel = pd.read_csv(\"RUSSEL2000.csv\")\n",
    "russel_2017_2019 = russel[(russel['Date'] >= '2017-01-01') & (russel['Date'] <= '2019-12-31')]\n",
    "russel_2020_2022 = russel[(russel['Date'] >= '2020-01-01') & (russel['Date'] <= '2022-12-31')]\n",
    "\n",
    "# Exporter les données filtrées vers de nouveaux fichiers CSV\n",
    "russel_2017_2019.to_csv('russel_2017_2019.csv', index=False)\n",
    "russel_2020_2022.to_csv('russel_2020_2022.csv', index=False)\n",
    "russel_2017_2019['Date'] = pd.to_datetime(russel_2017_2019['Date'])\n",
    "russel_2020_2022['Date'] = pd.to_datetime(russel_2020_2022['Date'])\n",
    "\n",
    "\n",
    "russel_2017_2019['Returns'] = russel_2017_2019['Close'].pct_change() * 100 #méthode utilisée pour calculer le pourcentage de changement entre les lignes\n",
    "cac = pd.read_csv(\"CAC40.csv\")\n",
    "cac_2017_2019 = cac[(cac['Date'] >= '2017-01-01') & (cac['Date'] <= '2019-12-31')]\n",
    "cac_2020_2022 = cac[(cac['Date'] >= '2020-01-01') & (cac['Date'] <= '2022-12-31')]\n",
    "\n",
    "# Exporter les données filtrées vers de nouveaux fichiers CSV\n",
    "cac_2017_2019.to_csv('cac_2017_2019.csv', index=False)\n",
    "cac_2020_2022.to_csv('cac_2020_2022.csv', index=False)\n",
    "\n",
    "russel_2020_2022['Returns'] = russel_2020_2022['Close'].pct_change() * 100\n",
    "cac_2017_2019['Returns'] = cac_2017_2019['Close'].pct_change() * 100\n",
    "cac_2020_2022['Returns'] = cac_2020_2022['Close'].pct_change() * 100\n",
    "\n",
    "# Modèle GARCH\n",
    "model_garch_russ2017 = arch_model(russel_2017_2019['Returns'].dropna(), vol='Garch', p=1, q=1)\n",
    "model_garch_russ2020 = arch_model(russel_2020_2022['Returns'].dropna(), vol='Garch', p=1, q=1)\n",
    "model_garch_cac2017 = arch_model(cac_2017_2019['Returns'].dropna(), vol='Garch', p=1, q=1)\n",
    "model_garch_cac2020 = arch_model(cac_2020_2022['Returns'].dropna(), vol='Garch', p=1, q=1)\n",
    "\n",
    "result = model_garch_russ2017.fit()\n",
    "print(result.summary())"
   ]
  },
  {
   "cell_type": "code",
   "execution_count": 5,
   "id": "e15f6e99d3e14830",
   "metadata": {
    "collapsed": false,
    "ExecuteTime": {
     "end_time": "2023-12-15T11:24:50.579676600Z",
     "start_time": "2023-12-15T11:24:47.651526700Z"
    }
   },
   "outputs": [
    {
     "name": "stdout",
     "output_type": "stream",
     "text": [
      "\n",
      "GARCH model parameters for cac40 2017-2019\n",
      "\n",
      "mu 0.000719\n",
      "omega 9e-06\n",
      "alpha 0.171\n",
      "beta 0.6988\n",
      "long-run volatility 0.0082\n",
      "log-likelihood 2634.2606\n"
     ]
    },
    {
     "name": "stderr",
     "output_type": "stream",
     "text": [
      "C:\\Users\\Thomas\\AppData\\Local\\Temp\\ipykernel_2028\\3556189032.py:58: RuntimeWarning: invalid value encountered in scalar power\n",
      "  long_run = (omega/(1 - alpha - beta))**(1/2)\n"
     ]
    },
    {
     "name": "stdout",
     "output_type": "stream",
     "text": [
      "\n",
      "GARCH model parameters for cac40 2020-2022\n",
      "\n",
      "mu 0.000749\n",
      "omega 1.2e-05\n",
      "alpha 0.1616\n",
      "beta 0.7761\n",
      "long-run volatility 0.0141\n",
      "log-likelihood 2273.0811\n",
      "\n",
      "GARCH model parameters for russel 2017-2019\n",
      "\n",
      "mu 0.000683\n",
      "omega 4e-06\n",
      "alpha 0.0975\n",
      "beta 0.8602\n",
      "long-run volatility 0.0098\n",
      "log-likelihood 2460.4948\n",
      "\n",
      "GARCH model parameters for russel 2020-2022\n",
      "\n",
      "mu 0.000653\n",
      "omega 1.8e-05\n",
      "alpha 0.1454\n",
      "beta 0.7956\n",
      "long-run volatility 0.0175\n",
      "log-likelihood 2009.923\n"
     ]
    },
    {
     "data": {
      "text/plain": "<Figure size 432x216 with 2 Axes>",
      "image/png": "[encoded data removed]"
     },
     "metadata": {
      "needs_background": "light"
     },
     "output_type": "display_data"
    },
    {
     "data": {
      "text/plain": "<Figure size 432x216 with 2 Axes>",
      "image/png": "[encoded data removed]"
     },
     "metadata": {
      "needs_background": "light"
     },
     "output_type": "display_data"
    }
   ],
   "source": [
    "#Création des 4 returns\n",
    "\n",
    "returns_cac_2017_2019 = np.array(cac_2017_2019['Close'])[1:]/np.array(cac_2017_2019['Close'])[:-1] - 1\n",
    "returns_cac_2017_2019 = returns_cac_2017_2019[~np.isnan(returns_cac_2017_2019)]\n",
    "returns_cac_2020_2022 = np.array(cac_2020_2022['Close'])[1:]/np.array(cac_2020_2022['Close'])[:-1] - 1\n",
    "returns_cac_2020_2022 = returns_cac_2020_2022[~np.isnan(returns_cac_2020_2022)]\n",
    "returns_russel_2017_2019 = np.array(russel_2017_2019['Close'])[1:]/np.array(russel_2017_2019['Close'])[:-1] - 1\n",
    "returns_russel_2017_2019 = returns_russel_2017_2019[~np.isnan(returns_russel_2017_2019)]\n",
    "returns_russel_2020_2022 = np.array(russel_2020_2022['Close'])[1:]/np.array(russel_2020_2022['Close'])[:-1] - 1\n",
    "returns_russel_2020_2022 = returns_russel_2020_2022[~np.isnan(returns_russel_2020_2022)]\n",
    "\n",
    "figure = plt.figure(figsize=(6,3))\n",
    "ax = plt.subplot(1,2, 1)\n",
    "ax.hist(returns_russel_2017_2019, bins='auto', alpha=0.75)\n",
    "ax.set_xlabel('Returns')\n",
    "ax.set_ylabel('Frequency')\n",
    "ax.set_title('Russsel Returns between 2017-19')\n",
    "ax.grid(True)\n",
    "plt.grid()\n",
    "\n",
    "ax = plt.subplot(1,2, 2)\n",
    "ax.hist(returns_russel_2020_2022, bins='auto', alpha=0.75)\n",
    "ax.set_xlabel('Returns')\n",
    "ax.set_ylabel('Frequency')\n",
    "ax.set_title('Russsel Returns between 2020-22')\n",
    "ax.grid(True)\n",
    "plt.grid()\n",
    "plt.tight_layout()\n",
    "\n",
    "figure = plt.figure(figsize=(6,3))\n",
    "ax = plt.subplot(1,2, 1)\n",
    "ax.hist(returns_cac_2017_2019, bins='auto', alpha=0.75)\n",
    "ax.set_xlabel('Returns')\n",
    "ax.set_ylabel('Frequency')\n",
    "ax.set_title('Cac Returns between 2017-19')\n",
    "ax.grid(True)\n",
    "plt.grid()\n",
    "\n",
    "ax = plt.subplot(1,2, 2)\n",
    "ax.hist(returns_cac_2020_2022, bins='auto', alpha=0.75)\n",
    "ax.set_xlabel('Returns')\n",
    "ax.set_ylabel('Frequency')\n",
    "ax.set_title('Cac Returns between 2020-22')\n",
    "ax.grid(True)\n",
    "plt.grid()\n",
    "plt.tight_layout()\n",
    "\n",
    "#nom des 4 répartitions\n",
    "cac_17_19 = 'cac_2017_2019'\n",
    "cac_20_22 = 'cac_2020_2022'\n",
    "rus_17_19 = 'rus_2017_2019'\n",
    "rus_20_22 = 'rus_2020_2022'\n",
    "\n",
    "def garch_mle(params,returns):\n",
    "    #specifying model parameters\n",
    "    mu, omega, alpha, beta = params\n",
    "    #calculating long-run volatility\n",
    "    long_run = (omega/(1 - alpha - beta))**(1/2)\n",
    "    #calculating realised and conditional volatility\n",
    "    resid = returns - mu\n",
    "    realised = abs(resid)\n",
    "    conditional = np.zeros(len(returns))\n",
    "    conditional[0] =  long_run\n",
    "    for t in range(1,len(returns)):\n",
    "        conditional[t] = (omega + alpha*resid[t-1]**2 + beta*conditional[t-1]**2)**(1/2)\n",
    "    #calculating log-likelihood\n",
    "    likelihood = 1/((2*np.pi)**(1/2)*conditional)*np.exp(-realised**2/(2*conditional**2))\n",
    "    log_likelihood = np.sum(np.log(likelihood))\n",
    "    return -log_likelihood\n",
    "\n",
    "def optimize(returns, returns_section):\n",
    "    mean = np.average(returns_cac_2017_2019)\n",
    "    var = np.std(returns_cac_2017_2019)**2\n",
    "    res = scipy.optimize.minimize(garch_mle, [mean, var, 0, 0],returns, method='Nelder-Mead')\n",
    "    #retrieving optimal parameters\n",
    "    params = res.x\n",
    "    mu = res.x[0]\n",
    "    omega = res.x[1]\n",
    "    alpha = res.x[2]\n",
    "    beta = res.x[3]\n",
    "    log_likelihood = -float(res.fun)\n",
    "    #calculating realised and conditional volatility for optimal parameters\n",
    "    long_run = (omega/(1 - alpha - beta))**(1/2)\n",
    "    resid = returns - mu\n",
    "    realised = abs(resid)\n",
    "    conditional = np.zeros(len(returns))\n",
    "    conditional[0] =  long_run\n",
    "    for t in range(1,len(returns)):\n",
    "        conditional[t] = (omega + alpha*resid[t-1]**2 + beta*conditional[t-1]**2)**(1/2)\n",
    "    #printing optimal parameters\n",
    "    if(returns_section== cac_17_19):\n",
    "        print(\"\\n\"+ f'GARCH model parameters for cac40 2017-2019')\n",
    "        print('')\n",
    "    elif(returns_section== cac_20_22):\n",
    "        print(\"\\n\"+ f'GARCH model parameters for cac40 2020-2022')\n",
    "        print('')\n",
    "    elif(returns_section== rus_17_19):\n",
    "        print(\"\\n\"+ f'GARCH model parameters for russel 2017-2019')\n",
    "        print('')\n",
    "    elif(returns_section== rus_20_22):\n",
    "        print(\"\\n\" + f'GARCH model parameters for russel 2020-2022')\n",
    "        print('')\n",
    "    print('mu '+str(round(mu, 6)))\n",
    "    print('omega '+str(round(omega, 6)))\n",
    "    print('alpha '+str(round(alpha, 4)))\n",
    "    print('beta '+str(round(beta, 4)))\n",
    "    print('long-run volatility '+str(round(long_run, 4)))\n",
    "    print('log-likelihood '+str(round(log_likelihood, 4)))\n",
    "\n",
    "optimize(returns_cac_2017_2019, cac_17_19)\n",
    "optimize(returns_cac_2020_2022, cac_20_22)\n",
    "optimize(returns_russel_2017_2019,rus_17_19)\n",
    "optimize(returns_russel_2020_2022,rus_20_22)"
   ]
  },
  {
   "cell_type": "markdown",
   "source": [
    "#### returns stationary processes"
   ],
   "metadata": {
    "collapsed": false
   },
   "id": "c6a9dc736bf6393f"
  },
  {
   "cell_type": "code",
   "execution_count": 45,
   "outputs": [
    {
     "name": "stdout",
     "output_type": "stream",
     "text": [
      "cac40 : \n",
      "t = -0.2667424602284943\n",
      "df = 1532\n",
      "p_value =  0.7897033579578916\n",
      "russel2000 : \n",
      "t = -0.38329460187759495\n",
      "df = 1506\n",
      "p_value =  0.701555438657965\n"
     ]
    }
   ],
   "source": [
    "def mean(returns): \n",
    "    return np.average(returns)\n",
    "\n",
    "def var(returns):\n",
    "    return np.var(returns)\n",
    "\n",
    "def cov(return1, return2):\n",
    "    n= min(len(return1),len(return2))\n",
    "    mean1=mean(return1)\n",
    "    mean2=mean(return2)\n",
    "    val = 0\n",
    "    for i in range(n):\n",
    "        val+=(return1[i]-mean1)*(return2[i]-mean2)\n",
    "    return (1/(n-1))*val\n",
    "\n",
    "def test(return1, return2):\n",
    "    n=min(len(return1),len(return2))\n",
    "    var_combined = var(return1) + var(return2) - cov(return1,return2)     \n",
    "    t=np.sqrt(n)*(var(return1)-var(return2))/np.sqrt(var_combined)\n",
    "    df = len(return1)+len(return2)-2\n",
    "    p_value = 2 * (1 - stats.t.cdf(abs(t), df))\n",
    "    print(\"t =\",t)\n",
    "    print(\"df =\", df)\n",
    "    print(\"p_value = \", p_value)\n",
    "\n",
    "print(\"cac40 : \")\n",
    "test(returns_cac_2017_2019,returns_cac_2020_2022)\n",
    "print(\"russel2000 : \")\n",
    "test(returns_russel_2017_2019,returns_russel_2020_2022)\n"
   ],
   "metadata": {
    "collapsed": false,
    "ExecuteTime": {
     "end_time": "2023-12-15T14:33:32.199251400Z",
     "start_time": "2023-12-15T14:33:32.191256Z"
    }
   },
   "id": "9418efa87daed48a"
  }
 ],
 "metadata": {
  "kernelspec": {
   "display_name": "Python 3",
   "language": "python",
   "name": "python3"
  },
  "language_info": {
   "codemirror_mode": {
    "name": "ipython",
    "version": 3
   },
   "file_extension": ".py",
   "mimetype": "text/x-python",
   "name": "python",
   "nbconvert_exporter": "python",
   "pygments_lexer": "ipython3",
   "version": "3.10.4"
  }
 },
 "nbformat": 4,
 "nbformat_minor": 5
}
